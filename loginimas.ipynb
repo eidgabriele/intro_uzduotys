{
 "cells": [
  {
   "cell_type": "code",
   "execution_count": 1,
   "metadata": {},
   "outputs": [],
   "source": [
    "def dalyba(a,b):\n",
    "    try:\n",
    "        res = a/b\n",
    "    except Exception as e:\n",
    "        print(e, e.__class__)\n",
    "    else:\n",
    "        print(f\"dalyba: {a} / {b} = {res}\")\n",
    "        return res"
   ]
  },
  {
   "cell_type": "code",
   "execution_count": null,
   "metadata": {},
   "outputs": [],
   "source": []
  },
  {
   "cell_type": "code",
   "execution_count": 2,
   "metadata": {},
   "outputs": [
    {
     "name": "stdout",
     "output_type": "stream",
     "text": [
      "dalyba: 7 / 3 = 2.3333333333333335\n"
     ]
    },
    {
     "data": {
      "text/plain": [
       "2.3333333333333335"
      ]
     },
     "execution_count": 2,
     "metadata": {},
     "output_type": "execute_result"
    }
   ],
   "source": [
    "dalyba(7, 3)"
   ]
  },
  {
   "cell_type": "code",
   "execution_count": 12,
   "metadata": {},
   "outputs": [
    {
     "name": "stderr",
     "output_type": "stream",
     "text": [
      "ERROR:root:division by zero<class 'ZeroDivisionError'>\n",
      "Traceback (most recent call last):\n",
      "  File \"<ipython-input-10-9ecdf93fbe99>\", line 5, in dalyba\n",
      "    res = a/b\n",
      "ZeroDivisionError: division by zero\n"
     ]
    }
   ],
   "source": [
    "dalyba(7, 0)"
   ]
  },
  {
   "cell_type": "code",
   "execution_count": 18,
   "metadata": {},
   "outputs": [],
   "source": [
    "import logging\n",
    "\n",
    "logging.basicConfig(level=logging.DEBUG)\n",
    "def dalyba(a,b):\n",
    "    try:\n",
    "        res = a/b\n",
    "    except Exception as e:\n",
    "       logging.exception(str(e)+str(e.__class__))\n",
    "    else:\n",
    "        logging.warning(f\"dalyba: {a} / {b} = {res}\")\n",
    "        return res"
   ]
  },
  {
   "cell_type": "markdown",
   "metadata": {},
   "source": [
    "DEBUG Detailed information, typically of interest only when diagnosing problems.\n",
    "\n",
    "INFO Confirmation that things are working as expected.\n",
    "\n",
    "WARNING An indication that something unexpected happened, or indicative of some problem in the near future (e.g. ‘disk space low’). The software is still working as expected.\n",
    "\n",
    "ERROR Due to a more serious problem, the software has not been able to perform some function.\n",
    "\n",
    "CRITICAL A serious error, indicating that the program itself may be unable to continue running.\n",
    "Exception "
   ]
  },
  {
   "cell_type": "code",
   "execution_count": 19,
   "metadata": {},
   "outputs": [
    {
     "name": "stderr",
     "output_type": "stream",
     "text": [
      "ERROR:root:division by zero<class 'ZeroDivisionError'>\n",
      "Traceback (most recent call last):\n",
      "  File \"<ipython-input-18-63585f8f1b4e>\", line 6, in dalyba\n",
      "    res = a/b\n",
      "ZeroDivisionError: division by zero\n"
     ]
    }
   ],
   "source": [
    "dalyba(7, 0)"
   ]
  },
  {
   "cell_type": "code",
   "execution_count": null,
   "metadata": {},
   "outputs": [],
   "source": []
  }
 ],
 "metadata": {
  "kernelspec": {
   "display_name": "Python 3.8.2 64-bit",
   "language": "python",
   "name": "python3"
  },
  "language_info": {
   "codemirror_mode": {
    "name": "ipython",
    "version": 3
   },
   "file_extension": ".py",
   "mimetype": "text/x-python",
   "name": "python",
   "nbconvert_exporter": "python",
   "pygments_lexer": "ipython3",
   "version": "3.8.2"
  },
  "orig_nbformat": 4,
  "vscode": {
   "interpreter": {
    "hash": "9650cb4e16cdd4a8e8e2d128bf38d875813998db22a3c986335f89e0cb4d7bb2"
   }
  }
 },
 "nbformat": 4,
 "nbformat_minor": 2
}
